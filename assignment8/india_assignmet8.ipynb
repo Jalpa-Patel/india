{
 "cells": [
  {
   "cell_type": "code",
   "execution_count": 68,
   "metadata": {
    "collapsed": false
   },
   "outputs": [
    {
     "name": "stdout",
     "output_type": "stream",
     "text": [
      "Jaccard Graph Similarity :0.2661596958174905\n"
     ]
    }
   ],
   "source": [
    "# Assignment 8 : Similarity of Text and Graph based models\n",
    "\n",
    "import re\n",
    "import pandas as pd\n",
    "import numpy as np\n",
    "import math\n",
    "from collections import Counter\n",
    "\n",
    "#read .h5 file\n",
    "store = pd.HDFStore('store2.h5')\n",
    "\n",
    "#Dataframe variable\n",
    "df1 = store['df1']\n",
    "df2 = store['df2']\n",
    "\n",
    "#1.1.1 Jaccard - Similarity on sets\n",
    "\n",
    "#Build the word sets of each article for each article id. \n",
    "df1[\"wordset\"] = df1.text.apply(lambda x: re.findall(\"\\w+\",str(x)))\n",
    "df1.head()\n",
    "\n",
    "#Calculate the jaccard coefficent\n",
    "def calcJaccardSimilarity(wordset1, wordset2):\n",
    "    union_of_wordset = list(set.union(wordset1,wordset2))\n",
    "    intersection_of_wordset = list(set.intersection(wordset1,wordset2))\n",
    "    jaccard_coefficient = float(len(intersection_of_wordset))/len(union_of_wordset)\n",
    "    return jaccard_coefficient\n",
    "\n",
    "#Compute the result for the articles Germany and Europe.\n",
    "\n",
    "article_ge = df1[df1.name==\"Germany\"]\n",
    "wordset_for_ge = str(article_ge['text'].values).split()\n",
    "set_ge = set(wordset_for_ge)\n",
    "article_eu = df1[df1.name==\"Europe\"]\n",
    "wordset_for_eu = str(article_eu['text'].values).split()\n",
    "set_eu = set(wordset_for_eu)\n",
    "\n",
    "print(\"Jaccard Word Similarity :\" + str(calcJaccardSimilarity(set_ge,set_eu)))\n",
    "\n",
    "#1.1.2 TF-IDF with cosine similarity\n",
    "\n",
    "#Count the term frequency of each term for each article and document frequencies of each term. \n",
    "tf_foreach_article['tf'] = df1.wordset.apply(lambda x: Counter(x))\n",
    "print(tf_foreach_article.head())\n",
    "tdf_foreach_article['tdf']=dict(tf_foreach_article)\n",
    "print(tf_foreach_article)\n",
    "\n",
    "#For each article id provide a dictionary of terms with their tf-idf scores as the corresponding values.\n",
    "\n",
    "def idf(word, list_of_docs):\n",
    "    return math.log(len(list_of_docs) /\n",
    "            float(num_docs_containing(word, list_of_docs)))\n",
    "def tf_idf(word, doc, list_of_docs):\n",
    "    return (tf(word, doc) * idf(word, list_of_docs))\n",
    "\n",
    "# Implement Cosine Similarity functions taking two term frequency dictionary \n",
    "\n",
    "def calculateCosineSimilarity(tfidf1, tfidf2):\n",
    "    all_words = set(tfidf1.keys())& set(tfidf2.keys())\n",
    "    v1 = [tfidf1[k] for k in all_words]\n",
    "    v2 = [tfidf2[k] for k in all_words]\n",
    "    dot_product = sum(n1 * n2 for n1, n2 in zip(v1, v2) )\n",
    "    add1 = math.sqrt(sum(n ** 2 for n in v1))\n",
    "    add2 = math.sqrt(sum(n ** 2 for n in v2))\n",
    "    return dot_product / (add1 * add2)\n",
    "\n",
    "#Compute the result for the articles Germany and Europe.\n",
    "text_ge = dict(Counter(wordset_for_ge)) #This is the dictionary for TF in article Germany\n",
    "text_eu = dict(Counter(wordset_for_eu))\n",
    "\n",
    "print('TF-IDF Cosine Similarity:', calculateCosineSimilarity(text_ge,text_eu))\n",
    "\n",
    "\n",
    "#1.2 Similarity of Graphs\n",
    "\n",
    "article_ge_outlink = df2[df2.name==\"Germany\"]\n",
    "wordset_for_ge_outlink = str(article_ge_outlink['out_links'].values).split()\n",
    "set_ge_outlink = set(wordset_for_ge_outlink)\n",
    "article_eu_outlink = df2[df2.name==\"Europe\"]\n",
    "wordset_for_eu_outlink = str(article_eu_outlink['out_links'].values).split()\n",
    "set_eu_outlink = set(wordset_for_eu_outlink)\n",
    "\n",
    "print(\"Jaccard Graph Similarity :\" + str(calcJaccardSimilarity(set_ge_outlink,set_eu_outlink)))\n",
    "\n",
    "\n"
   ]
  },
  {
   "cell_type": "code",
   "execution_count": null,
   "metadata": {
    "collapsed": true
   },
   "outputs": [],
   "source": []
  },
  {
   "cell_type": "code",
   "execution_count": null,
   "metadata": {
    "collapsed": true
   },
   "outputs": [],
   "source": []
  }
 ],
 "metadata": {
  "anaconda-cloud": {},
  "kernelspec": {
   "display_name": "Python [default]",
   "language": "python",
   "name": "python3"
  },
  "language_info": {
   "codemirror_mode": {
    "name": "ipython",
    "version": 3
   },
   "file_extension": ".py",
   "mimetype": "text/x-python",
   "name": "python",
   "nbconvert_exporter": "python",
   "pygments_lexer": "ipython3",
   "version": "3.5.2"
  }
 },
 "nbformat": 4,
 "nbformat_minor": 1
}
